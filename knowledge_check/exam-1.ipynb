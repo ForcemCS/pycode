{
 "cells": [
  {
   "cell_type": "markdown",
   "id": "70db7de3",
   "metadata": {},
   "source": [
    "### 测试 1"
   ]
  },
  {
   "cell_type": "markdown",
   "id": "8647d7ba",
   "metadata": {},
   "source": [
    "#### 问题 1\n",
    "根据 Unicode 标准，码点为 `U+00E3` 的字符的大写形式是哪一个？\n",
    "\n",
    "- a: `U+00C3`\n",
    "- b: `U+0040`\n",
    "- c: `U+13F0`\n",
    "- d: `U+2102`"
   ]
  },
  {
   "cell_type": "markdown",
   "id": "7898c08e",
   "metadata": {},
   "source": [
    "#### 问题 2\n",
    "若要对两个字符串（`s1` 和 `s2`）进行不区分大小写的比较，以下哪种方法最合适？\n",
    "\n",
    "- a: `s1.upper() == s2.upper()`\n",
    "- b: `s1.title() == s2.title()`\n",
    "- c: `s1.lower() == s2.lower()`\n",
    "- d: `s1.casefold() == s2.casefold()`"
   ]
  },
  {
   "cell_type": "code",
   "execution_count": null,
   "id": "98615a15",
   "metadata": {
    "vscode": {
     "languageId": "plaintext"
    }
   },
   "outputs": [],
   "source": []
  },
  {
   "cell_type": "markdown",
   "id": "d4dec1c3",
   "metadata": {},
   "source": [
    "#### 问题 3\n",
    "给定如下字符串：\n",
    "\n",
    "```python\n",
    "s = '3.14/4.15/6.7/8.9'\n",
    "```\n",
    "\n",
    "以下哪个表达式的结果是数字 `4.15`？\n",
    "\n",
    "- a: `s[s.index('/'): s.index('/')][1]`\n",
    "- b: `s.split('/')[1]`\n",
    "- c: `float(s.split('/')[-3])`\n",
    "- d: `float(s).split('/')[1]`"
   ]
  },
  {
   "cell_type": "markdown",
   "id": "bf971264",
   "metadata": {},
   "source": [
    "#### 问题 4\n",
    "给定字符串 `data`，以下哪段代码可以**正确且最高效地**判断子串 `s` 是否出现在 `data` 中？\n",
    "\n",
    "- a: `True if data.index(s) > 0 else False`\n",
    "- b: `True if data.find(s) > 0 else False`\n",
    "- c: `s in data`\n",
    "- d: `[s[i] in data for i in range(len(s))]`"
   ]
  },
  {
   "cell_type": "markdown",
   "id": "a01d5439",
   "metadata": {},
   "source": [
    "#### 问题 5\n",
    "下面的函数意图是找到列表 `numbers` 中第一个负数的索引：\n",
    "\n",
    "```python\n",
    "def find_first_negative(numbers):\n",
    "    i = 0\n",
    "    while numbers[i] >= 0:\n",
    "        i += 1\n",
    "    return i\n",
    "```\n",
    "\n",
    "该函数将返回正确结果的情况是：\n",
    "\n",
    "- a: 当 `numbers` 至少包含一个负数时\n",
    "- b: 当 `numbers` 仅包含正数时\n",
    "- c: 总是\n",
    "- d: 从不返回正确结果"
   ]
  },
  {
   "cell_type": "markdown",
   "id": "e515a617",
   "metadata": {},
   "source": [
    "#### 问题 6\n",
    "以下函数均旨在验证输入是否满足以下条件：\n",
    "\n",
    "1. 是整数\n",
    "2. 是正数\n",
    "3. 小于 `100`\n",
    "\n",
    "不满足时需要抛出 `ValueError` 异常。\n",
    "\n",
    "**函数 I**:\n",
    "```python\n",
    "def validate(num):\n",
    "    return isinstance(num, int) and num > 0 and num < 100\n",
    "```\n",
    "\n",
    "**函数 II**:\n",
    "```python\n",
    "def validate(num):\n",
    "    if not(isinstance(num, int) and num > 0 and num < 100):\n",
    "        return ValueError('Invalid input')\n",
    "```\n",
    "\n",
    "**函数 III**:\n",
    "```python\n",
    "def validate(num):\n",
    "    if not(isinstance(num, int) and num > 0 and num < 100):\n",
    "        raise ValueError('Invalid input')\n",
    "```\n",
    "\n",
    "哪些函数能正确工作？\n",
    "\n",
    "- a: 全部\n",
    "- b: 都不能\n",
    "- c: 仅 II 和 III\n",
    "- d: 仅 III"
   ]
  },
  {
   "cell_type": "markdown",
   "id": "1372c756",
   "metadata": {},
   "source": [
    "#### 问题 7\n",
    "你想创建一个函数，该函数接受两个位置参数，以及一个默认值为 `True` 的**仅关键字参数**。\n",
    "\n",
    "函数定义应为哪一种？\n",
    "\n",
    "- a: `def func(a, b, kwarg=True)`\n",
    "- b: `def func(a, b, **kwargs, kwarg=True)`\n",
    "- c: `def func(a, b, *, kwarg=True)`\n",
    "- d: `def func(kwarg=True, *, a, b)`"
   ]
  },
  {
   "cell_type": "markdown",
   "id": "40cdf0ed",
   "metadata": {},
   "source": [
    "#### 问题 8\n",
    "某个一元二次方程：\n",
    "\n",
    "$$\n",
    "ax^2 + bx + c = 0\n",
    "$$\n",
    "\n",
    "其中一个解的公式为：\n",
    "\n",
    "$$\n",
    "\\frac{-b + \\sqrt{b^2 - 4ac}}{2a}\n",
    "$$\n",
    "\n",
    "请编写一个函数，接收 `a`、`b` 和 `c` 的具体值，并根据上述公式计算结果，保留两位小数。\n",
    "\n",
    "例如，给定方程：\n",
    "\n",
    "$$\n",
    "3x^2 + 4x - 5 = 0\n",
    "$$\n",
    "\n",
    "你的函数应返回 `0.79`。\n",
    "\n",
    "请计算下列方程的结果：\n",
    "\n",
    "$$\n",
    "x^2 - 5x - 8 = 0\n",
    "$$"
   ]
  },
  {
   "cell_type": "markdown",
   "id": "fa61b4f6",
   "metadata": {},
   "source": [
    "#### 问题 9\n",
    "下面的函数对字符串进行了（非常简单的）加密：\n",
    "\n",
    "请编写一个函数来**解密**下面这个加密字符串：\n",
    "\n",
    "```\n",
    "'S}kkm*Xo\\x81~yx'\n",
    "```"
   ]
  },
  {
   "cell_type": "markdown",
   "id": "75bd2743",
   "metadata": {},
   "source": [
    "#### 问题 10\n",
    "给定以下字符串：\n",
    "\n",
    "请判断下列哪几个函数在以 `currencies` 和 `values` 作为两个位置参数时，会生成下列字符串：\n",
    "\n",
    "```python\n",
    "\"100 USD, 200 CAD, 300 USD, 400 JPY, 500 AUD\"\n",
    "```\n",
    "\n",
    "**函数 I**：\n",
    "```python\n",
    "def func(currencies, values):\n",
    "    currencies = currencies.split(',')\n",
    "    result = ''\n",
    "    for i in range(min(len(currencies), len(values))):\n",
    "        currency = currencies[i].strip()\n",
    "        value = str(values[i])\n",
    "        result = result + value + ' ' + currency + ', '\n",
    "    return result.strip(', ')\n",
    "```\n",
    "\n",
    "**函数 II**：\n",
    "```python\n",
    "def func(currencies, values):\n",
    "    currencies = [s.strip() for s in currencies.split(',')]\n",
    "    result = []\n",
    "    for currency, value in zip(currencies, values):\n",
    "        result.append(str(value) + ' ' + currency)\n",
    "    return ', '.join(result)\n",
    "```\n",
    "\n",
    "**函数 III**：\n",
    "```python\n",
    "def func(currencies, values):\n",
    "    return ', '.join(\n",
    "        [\n",
    "            str(v1) + ' ' + v2 \n",
    "            for v1, v2 in zip(\n",
    "                values, \n",
    "                [s.strip() for s in currencies.split(',')]\n",
    "            )\n",
    "        ]\n",
    "    )\n",
    "```\n",
    "\n",
    "**函数 IV**：\n",
    "```python\n",
    "def func(currencies, values):\n",
    "    currencies = [s.strip() for s in currencies.split(',')]\n",
    "    result = [\n",
    "        ' '.join([str(v1), v2]) \n",
    "        for v1, v2 in zip(values, currencies)\n",
    "    ]\n",
    "    return ', '.join(result)\n",
    "```\n",
    "\n",
    "选项：\n",
    "\n",
    "- a: 仅 I 和 II\n",
    "- b: 仅 I、III 和 IV\n",
    "- c: 都不行\n",
    "- d: 全部都可以"
   ]
  }
 ],
 "metadata": {
  "language_info": {
   "name": "python"
  }
 },
 "nbformat": 4,
 "nbformat_minor": 5
}
